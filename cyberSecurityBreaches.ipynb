{
 "cells": [
  {
   "attachments": {},
   "cell_type": "markdown",
   "metadata": {},
   "source": [
    "# A Breached Fortress: Analyzing the Government Agency Cybersecurity Breaches"
   ]
  },
  {
   "attachments": {},
   "cell_type": "markdown",
   "metadata": {},
   "source": [
    "![image.png](https://www.reliasite.com/wp-content/uploads/2019/08/bigstock-Hacker-Using-Laptop-With-Binar-257453926-e1565109796243.jpg)"
   ]
  },
  {
   "attachments": {},
   "cell_type": "markdown",
   "metadata": {},
   "source": [
    "# The Background\n",
    "---"
   ]
  },
  {
   "attachments": {},
   "cell_type": "markdown",
   "metadata": {},
   "source": [
    "In a not-so-distant future, a government-owned agency that plays a crucial role in national security and public welfare finds itself entangled in a series of alarming cybersecurity breaches. This agency, responsible for handling sensitive information and critical infrastructure, was once regarded as a fortress of impenetrable security measures. However, recent events have exposed its vulnerabilities and sent shockwaves through the nation.\n",
    "\n",
    "In order to recover, this agency has tasked you with analyzing data involving its breaches. Entity names have not been disclosed for security purposes. Your mission, should you choose to accept it, is to analyze the data and uncover trends and insights regarding the breaches then add your recommendations. The future of the agency and the nation's security depends on you."
   ]
  },
  {
   "attachments": {},
   "cell_type": "markdown",
   "metadata": {},
   "source": [
    "# The Data Description"
   ]
  },
  {
   "attachments": {},
   "cell_type": "markdown",
   "metadata": {},
   "source": [
    "| Column Name | Description |\n",
    "| --- | --- |\n",
    "| **ID** | Entity breached identification number |\n",
    "| **Name of Covered Entity** | Cover ame for breached entities |\n",
    "| **State** | State of origin for entity |\n",
    "| **Business Associate Involved** | Whether or not the breach involved a business associate |\n",
    "| **Individuals Affected** | Number of people affected by the breach |\n",
    "| **Breach Start** | Start date of breach |\n",
    "| **Breach End** | End date of breach |\n",
    "| **Posted/Updated** | The date in which the breach was posted for open to public |\n",
    "| **Type of Breach** | The mode of breach|\n",
    "| **Location of Breached Information** |  The technical device(s) that were compromised |"
   ]
  },
  {
   "attachments": {},
   "cell_type": "markdown",
   "metadata": {},
   "source": [
    "# Data Profiling and Cleaning"
   ]
  },
  {
   "cell_type": "code",
   "execution_count": 8,
   "metadata": {},
   "outputs": [],
   "source": [
    "#importing libraries and data\n",
    "\n",
    "import pandas as pd\n",
    "import numpy as np\n",
    "import matplotlib.pyplot as plt\n",
    "import seaborn as sns\n",
    "import datetime as dt\n",
    "\n",
    "df = pd.read_excel('CyberSecurityBreaches.xlsx')\n",
    "breaches = df.copy()"
   ]
  },
  {
   "cell_type": "code",
   "execution_count": 4,
   "metadata": {},
   "outputs": [
    {
     "data": {
      "text/html": [
       "<div>\n",
       "<style scoped>\n",
       "    .dataframe tbody tr th:only-of-type {\n",
       "        vertical-align: middle;\n",
       "    }\n",
       "\n",
       "    .dataframe tbody tr th {\n",
       "        vertical-align: top;\n",
       "    }\n",
       "\n",
       "    .dataframe thead th {\n",
       "        text-align: right;\n",
       "    }\n",
       "</style>\n",
       "<table border=\"1\" class=\"dataframe\">\n",
       "  <thead>\n",
       "    <tr style=\"text-align: right;\">\n",
       "      <th></th>\n",
       "      <th>ID</th>\n",
       "      <th>Name of Covered Entity</th>\n",
       "      <th>State</th>\n",
       "      <th>Business Associate Involved</th>\n",
       "      <th>Individuals Affected</th>\n",
       "      <th>Breach Start</th>\n",
       "      <th>Breach End</th>\n",
       "      <th>Posted/Updated</th>\n",
       "      <th>Type of Breach</th>\n",
       "      <th>Location of Breached Information</th>\n",
       "    </tr>\n",
       "  </thead>\n",
       "  <tbody>\n",
       "    <tr>\n",
       "      <th>0</th>\n",
       "      <td>90840</td>\n",
       "      <td>Entity 1</td>\n",
       "      <td>TX</td>\n",
       "      <td>No</td>\n",
       "      <td>1711</td>\n",
       "      <td>2015-09-13</td>\n",
       "      <td>2015-10-15</td>\n",
       "      <td>2016-06-29</td>\n",
       "      <td>Theft</td>\n",
       "      <td>Paper</td>\n",
       "    </tr>\n",
       "    <tr>\n",
       "      <th>1</th>\n",
       "      <td>90711</td>\n",
       "      <td>Entity 2</td>\n",
       "      <td>MO</td>\n",
       "      <td>No</td>\n",
       "      <td>692</td>\n",
       "      <td>2014-07-13</td>\n",
       "      <td>2014-07-13</td>\n",
       "      <td>2016-05-29</td>\n",
       "      <td>Theft</td>\n",
       "      <td>Network Server</td>\n",
       "    </tr>\n",
       "    <tr>\n",
       "      <th>2</th>\n",
       "      <td>90799</td>\n",
       "      <td>Entity 3</td>\n",
       "      <td>AK</td>\n",
       "      <td>No</td>\n",
       "      <td>606</td>\n",
       "      <td>2015-04-06</td>\n",
       "      <td>2015-05-21</td>\n",
       "      <td>2016-01-23</td>\n",
       "      <td>Theft</td>\n",
       "      <td>Other Portable Electronic Device, Other</td>\n",
       "    </tr>\n",
       "    <tr>\n",
       "      <th>3</th>\n",
       "      <td>90868</td>\n",
       "      <td>Entity 4</td>\n",
       "      <td>DC</td>\n",
       "      <td>No</td>\n",
       "      <td>50000</td>\n",
       "      <td>2016-04-07</td>\n",
       "      <td>2016-04-07</td>\n",
       "      <td>2016-01-23</td>\n",
       "      <td>Loss</td>\n",
       "      <td>Laptop</td>\n",
       "    </tr>\n",
       "    <tr>\n",
       "      <th>4</th>\n",
       "      <td>90611</td>\n",
       "      <td>Entity 5</td>\n",
       "      <td>CA</td>\n",
       "      <td>No</td>\n",
       "      <td>2279</td>\n",
       "      <td>2014-09-19</td>\n",
       "      <td>2014-09-26</td>\n",
       "      <td>2016-01-23</td>\n",
       "      <td>Theft</td>\n",
       "      <td>Desktop Computer</td>\n",
       "    </tr>\n",
       "  </tbody>\n",
       "</table>\n",
       "</div>"
      ],
      "text/plain": [
       "      ID Name of Covered Entity State Business Associate Involved  \\\n",
       "0  90840               Entity 1    TX                          No   \n",
       "1  90711               Entity 2    MO                          No   \n",
       "2  90799               Entity 3    AK                          No   \n",
       "3  90868               Entity 4    DC                          No   \n",
       "4  90611               Entity 5    CA                          No   \n",
       "\n",
       "   Individuals Affected Breach Start Breach End Posted/Updated Type of Breach  \\\n",
       "0                  1711   2015-09-13 2015-10-15     2016-06-29          Theft   \n",
       "1                   692   2014-07-13 2014-07-13     2016-05-29          Theft   \n",
       "2                   606   2015-04-06 2015-05-21     2016-01-23          Theft   \n",
       "3                 50000   2016-04-07 2016-04-07     2016-01-23           Loss   \n",
       "4                  2279   2014-09-19 2014-09-26     2016-01-23          Theft   \n",
       "\n",
       "          Location of Breached Information  \n",
       "0                                    Paper  \n",
       "1                           Network Server  \n",
       "2  Other Portable Electronic Device, Other  \n",
       "3                                   Laptop  \n",
       "4                         Desktop Computer  "
      ]
     },
     "execution_count": 4,
     "metadata": {},
     "output_type": "execute_result"
    }
   ],
   "source": [
    "\n"
   ]
  },
  {
   "cell_type": "code",
   "execution_count": 7,
   "metadata": {},
   "outputs": [
    {
     "data": {
      "text/plain": [
       "10"
      ]
     },
     "execution_count": 7,
     "metadata": {},
     "output_type": "execute_result"
    }
   ],
   "source": [
    "len(df.columns)"
   ]
  }
 ],
 "metadata": {
  "kernelspec": {
   "display_name": "Python 3",
   "language": "python",
   "name": "python3"
  },
  "language_info": {
   "codemirror_mode": {
    "name": "ipython",
    "version": 3
   },
   "file_extension": ".py",
   "mimetype": "text/x-python",
   "name": "python",
   "nbconvert_exporter": "python",
   "pygments_lexer": "ipython3",
   "version": "3.9.2"
  },
  "orig_nbformat": 4
 },
 "nbformat": 4,
 "nbformat_minor": 2
}
