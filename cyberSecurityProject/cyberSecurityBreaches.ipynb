{
 "cells": [
  {
   "attachments": {},
   "cell_type": "markdown",
   "metadata": {},
   "source": [
    "# A Breached Fortress: Analyzing the Government Agency Cybersecurity Breaches"
   ]
  },
  {
   "attachments": {},
   "cell_type": "markdown",
   "metadata": {},
   "source": [
    "![image.png](https://www.reliasite.com/wp-content/uploads/2019/08/bigstock-Hacker-Using-Laptop-With-Binar-257453926-e1565109796243.jpg)"
   ]
  },
  {
   "attachments": {},
   "cell_type": "markdown",
   "metadata": {},
   "source": [
    "# The Background\n",
    "---"
   ]
  },
  {
   "attachments": {},
   "cell_type": "markdown",
   "metadata": {},
   "source": [
    "In a not-so-distant future, a government-owned agency that plays a crucial role in national security and public welfare finds itself entangled in a series of alarming cybersecurity breaches. This agency, responsible for handling sensitive information and critical infrastructure, was once regarded as a fortress of impenetrable security measures. However, recent events have exposed its vulnerabilities and sent shockwaves through the nation.\n",
    "\n",
    "In order to recover, this agency has tasked you with analyzing data involving its breaches. Entity names have not been disclosed for security purposes. Your mission, should you choose to accept it, is to analyze the data and uncover trends and insights regarding the breaches then add your recommendations. The future of the agency and the nation's security depends on you."
   ]
  },
  {
   "attachments": {},
   "cell_type": "markdown",
   "metadata": {},
   "source": [
    "# The Data Description"
   ]
  },
  {
   "attachments": {},
   "cell_type": "markdown",
   "metadata": {},
   "source": [
    "| Column Name | Description |\n",
    "| --- | --- |\n",
    "| **ID** | Entity breached identification number |\n",
    "| **Name of Covered Entity** | Cover ame for breached entities |\n",
    "| **State** | State of origin for entity |\n",
    "| **Business Associate Involved** | Whether or not the breach involved a business associate |\n",
    "| **Individuals Affected** | Number of people affected by the breach |\n",
    "| **Breach Start** | Start date of breach |\n",
    "| **Breach End** | End date of breach |\n",
    "| **Posted/Updated** | The date in which the breach was posted for open to public |\n",
    "| **Type of Breach** | The mode of breach|\n",
    "| **Location of Breached Information** |  The technical device(s) that were compromised |"
   ]
  },
  {
   "attachments": {},
   "cell_type": "markdown",
   "metadata": {},
   "source": [
    "# Data Profiling and Cleaning"
   ]
  },
  {
   "cell_type": "code",
   "execution_count": 10,
   "metadata": {},
   "outputs": [],
   "source": [
    "#importing libraries and data\n",
    "\n",
    "import pandas as pd\n",
    "from tabulate import tabulate\n",
    "import numpy as np\n",
    "import matplotlib.pyplot as plt\n",
    "import seaborn as sns\n",
    "import datetime as dt\n",
    "\n",
    "df = pd.read_excel('CyberSecurityBreaches.xlsx')\n",
    "breaches = df.copy()"
   ]
  },
  {
   "cell_type": "code",
   "execution_count": 17,
   "metadata": {},
   "outputs": [
    {
     "name": "stdout",
     "output_type": "stream",
     "text": [
      "First 5 rows of the data\n",
      "|    |    ID | Name of Covered Entity   | State   | Business Associate Involved   |   Individuals Affected | Breach Start        | Breach End          | Posted/Updated      | Type of Breach   | Location of Breached Information        |\n",
      "|---:|------:|:-------------------------|:--------|:------------------------------|-----------------------:|:--------------------|:--------------------|:--------------------|:-----------------|:----------------------------------------|\n",
      "|  0 | 90840 | Entity 1                 | TX      | No                            |                   1711 | 2015-09-13 00:00:00 | 2015-10-15 00:00:00 | 2016-06-29 00:00:00 | Theft            | Paper                                   |\n",
      "|  1 | 90711 | Entity 2                 | MO      | No                            |                    692 | 2014-07-13 00:00:00 | 2014-07-13 00:00:00 | 2016-05-29 00:00:00 | Theft            | Network Server                          |\n",
      "|  2 | 90799 | Entity 3                 | AK      | No                            |                    606 | 2015-04-06 00:00:00 | 2015-05-21 00:00:00 | 2016-01-23 00:00:00 | Theft            | Other Portable Electronic Device, Other |\n",
      "|  3 | 90868 | Entity 4                 | DC      | No                            |                  50000 | 2016-04-07 00:00:00 | 2016-04-07 00:00:00 | 2016-01-23 00:00:00 | Loss             | Laptop                                  |\n",
      "|  4 | 90611 | Entity 5                 | CA      | No                            |                   2279 | 2014-09-19 00:00:00 | 2014-09-26 00:00:00 | 2016-01-23 00:00:00 | Theft            | Desktop Computer                        | \n",
      "\n",
      "Last 5 rows of the data\n",
      "|      |    ID | Name of Covered Entity   | State   | Business Associate Involved   |   Individuals Affected | Breach Start        | Breach End          | Posted/Updated      | Type of Breach                 | Location of Breached Information   |\n",
      "|-----:|------:|:-------------------------|:--------|:------------------------------|-----------------------:|:--------------------|:--------------------|:--------------------|:-------------------------------|:-----------------------------------|\n",
      "| 2105 | 91347 | Entity 2016              | MO      | No                            |                    700 | 2014-08-07 00:00:00 | 2015-03-05 00:00:00 | 2015-11-19 00:00:00 | Theft                          | Other                              |\n",
      "| 2106 | 91306 | Entity 2017              | IL      | No                            |                   8911 | 2011-10-17 00:00:00 | 2012-08-18 00:00:00 | 2013-05-04 00:00:00 | Hacking/IT Incident            | Other                              |\n",
      "| 2107 | 91893 | Entity 2018              | NC      | No                            |                   2777 | 2011-12-16 00:00:00 | 2013-03-09 00:00:00 | 2013-12-14 00:00:00 | Theft, Loss                    | Other Portable Electronic Device   |\n",
      "| 2108 | 91626 | Entity 2019              | OR      | No                            |                    660 | 2014-10-07 00:00:00 | 2016-08-31 00:00:00 | 2017-06-07 00:00:00 | Unauthorized Access/Disclosure | E-mail                             |\n",
      "| 2109 | 91935 | Entity 2020              | MO      | Yes                           |                    600 | 2013-01-06 00:00:00 | 2013-07-19 00:00:00 | 2013-12-02 00:00:00 | Theft                          | Desktop Computer                   | \n",
      "\n",
      "Random 5 rows of the data\n",
      "|      |    ID | Name of Covered Entity   | State   | Business Associate Involved   |   Individuals Affected | Breach Start        | Breach End          | Posted/Updated      | Type of Breach                 | Location of Breached Information   |\n",
      "|-----:|------:|:-------------------------|:--------|:------------------------------|-----------------------:|:--------------------|:--------------------|:--------------------|:-------------------------------|:-----------------------------------|\n",
      "| 1734 | 91634 | Entity 1645              | MI      | Yes                           |                    824 | 2016-03-30 00:00:00 | 2016-12-07 00:00:00 | 2017-01-08 00:00:00 | Unauthorized Access/Disclosure | Paper                              |\n",
      "| 2069 | 91806 | Entity 1980              | MN      | Yes                           |                  10271 | 2014-12-21 00:00:00 | 2016-05-21 00:00:00 | 2016-07-08 00:00:00 | Hacking/IT Incident            | E-mail                             |\n",
      "|  986 | 90839 | Entity 215               | WA      | No                            |                   8555 | 2014-05-01 00:00:00 | 2014-09-21 00:00:00 | 2016-04-20 00:00:00 | Other                          | E-mail                             |\n",
      "| 1533 | 91381 | Entity 1444              | CA      | No                            |                    690 | 2013-05-31 00:00:00 | 2015-01-30 00:00:00 | 2015-11-10 00:00:00 | Other                          | Network Server                     |\n",
      "|  551 | 90695 | Entity 243               | NY      | No                            |                   8000 | 2015-02-27 00:00:00 | 2015-02-27 00:00:00 | 2016-01-23 00:00:00 | Theft                          | Desktop Computer                   |\n"
     ]
    }
   ],
   "source": [
    "# Inspect the data\n",
    "\n",
    "print('First 5 rows of the data')\n",
    "print(tabulate(breaches.head(), tablefmt=\"pipe\", headers=\"keys\"), '\\n')\n",
    "print('Last 5 rows of the data')\n",
    "print(tabulate(breaches.tail(), tablefmt=\"pipe\", headers=\"keys\"), '\\n')\n",
    "print('Random 5 rows of the data')\n",
    "print(tabulate(breaches.sample(5), tablefmt=\"pipe\", headers=\"keys\"))\n",
    "\n"
   ]
  },
  {
   "attachments": {},
   "cell_type": "markdown",
   "metadata": {},
   "source": [
    "This looks ok to me. I don't see anything alarming right off the bat. Let move forward."
   ]
  },
  {
   "cell_type": "code",
   "execution_count": 45,
   "metadata": {},
   "outputs": [
    {
     "name": "stdout",
     "output_type": "stream",
     "text": [
      "|    | column                           | dtype          |\n",
      "|---:|:---------------------------------|:---------------|\n",
      "|  0 | ID                               | int64          |\n",
      "|  1 | Name of Covered Entity           | object         |\n",
      "|  2 | State                            | object         |\n",
      "|  3 | Business Associate Involved      | object         |\n",
      "|  4 | Individuals Affected             | int64          |\n",
      "|  5 | Breach Start                     | datetime64[ns] |\n",
      "|  6 | Breach End                       | datetime64[ns] |\n",
      "|  7 | Posted/Updated                   | datetime64[ns] |\n",
      "|  8 | Type of Breach                   | object         |\n",
      "|  9 | Location of Breached Information | object         | \n",
      "\n",
      "There are 2110 rows and 10 columns in the data\n"
     ]
    }
   ],
   "source": [
    "# Inspect the data types\n",
    "\n",
    "print(tabulate(breaches.dtypes.reset_index().rename(columns={0:'dtype', 'index':'column'}), tablefmt=\"pipe\", headers=\"keys\"),'\\n')\n",
    "\n",
    "# Inspect the data shape\n",
    "\n",
    "print(f'There are {breaches.shape[0]} rows and {breaches.shape[1]} columns in the data')"
   ]
  },
  {
   "cell_type": "code",
   "execution_count": 7,
   "metadata": {},
   "outputs": [
    {
     "data": {
      "text/plain": [
       "10"
      ]
     },
     "execution_count": 7,
     "metadata": {},
     "output_type": "execute_result"
    }
   ],
   "source": [
    "len(df.columns)"
   ]
  }
 ],
 "metadata": {
  "kernelspec": {
   "display_name": "Python 3",
   "language": "python",
   "name": "python3"
  },
  "language_info": {
   "codemirror_mode": {
    "name": "ipython",
    "version": 3
   },
   "file_extension": ".py",
   "mimetype": "text/x-python",
   "name": "python",
   "nbconvert_exporter": "python",
   "pygments_lexer": "ipython3",
   "version": "3.9.2"
  },
  "orig_nbformat": 4
 },
 "nbformat": 4,
 "nbformat_minor": 2
}
